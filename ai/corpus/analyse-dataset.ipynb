{
 "cells": [
  {
   "cell_type": "code",
   "execution_count": null,
   "metadata": {},
   "outputs": [],
   "source": [
    "import pickle\n",
    "\n",
    "with open(\"formality-dataset-dict.pkl\", \"rb\") as dataset_file:\n",
    "    dataset_dict = pickle.load(dataset_file)"
   ]
  },
  {
   "cell_type": "code",
   "execution_count": null,
   "metadata": {},
   "outputs": [],
   "source": [
    "def get_num_words(sentences):\n",
    "    num = 0\n",
    "    for sentence in sentences:\n",
    "        num += len(sentence.split())\n",
    "    return num\n",
    "\n",
    "def get_max_words(sentences):\n",
    "    return max(len(sentence.split()) for sentence in sentences)\n",
    "\n",
    "def get_min_words(sentences):\n",
    "    return min(len(sentence.split()) for sentence in sentences)\n",
    "\n",
    "num_formal_sentences = len(dataset_dict[\"formal\"])\n",
    "num_informal_sentences = len(dataset_dict[\"informal\"])\n",
    "num_formal_words = get_num_words(dataset_dict[\"formal\"])\n",
    "num_informal_words = get_num_words(dataset_dict[\"informal\"])\n",
    "print(\"Num sentences in formal dict:\", num_formal_sentences)\n",
    "print(\"Num sentences in informal dict:\", num_informal_sentences)\n",
    "print(\"Num words in formal dict:\", num_formal_words)\n",
    "print(\"Num words in informal dict:\", num_informal_words)\n",
    "print(\"Avg words per sentence in formal dict:\", num_formal_words / num_formal_sentences)\n",
    "print(\"Avg words per sentence in informal dict:\", num_informal_words / num_informal_sentences)\n",
    "print(\"Most words in a sentence in formal dict:\", get_max_words(dataset_dict[\"formal\"]))\n",
    "print(\"Most words in a sentence in informal dict:\", get_max_words(dataset_dict[\"informal\"]))\n",
    "print(\"Least words in a sentence in formal dict:\", get_min_words(dataset_dict[\"formal\"]))\n",
    "print(\"Least words in a sentence in informal dict:\", get_min_words(dataset_dict[\"informal\"]))"
   ]
  },
  {
   "cell_type": "code",
   "execution_count": null,
   "metadata": {},
   "outputs": [],
   "source": [
    "import pandas as pd\n",
    "import matplotlib.pyplot as plt\n",
    "import seaborn as sns\n",
    "\n",
    "dataframe = pd.DataFrame(\n",
    "    [(sentence, label) for label, sentences in dataset_dict.items() for sentence in sentences],\n",
    "    columns=[\"Sentence\", \"Formality\"]\n",
    ")\n",
    "\n",
    "plt.figure(figsize=(10, 6))\n",
    "sns.histplot(dataframe, hue=\"Formality\", bins=20, kde=True,\n",
    "             x=dataframe[\"Sentence\"].apply(lambda x: len(x.split())))\n",
    "plt.title(\"Word Count Distribution by Formality\")\n",
    "plt.xlabel(\"Word Count\")\n",
    "plt.ylabel(\"Frequency\")\n",
    "plt.show()"
   ]
  }
 ],
 "metadata": {
  "kernelspec": {
   "display_name": "Python 3",
   "language": "python",
   "name": "python3"
  },
  "language_info": {
   "codemirror_mode": {
    "name": "ipython",
    "version": 3
   },
   "file_extension": ".py",
   "mimetype": "text/x-python",
   "name": "python",
   "nbconvert_exporter": "python",
   "pygments_lexer": "ipython3",
   "version": "3.11.5"
  }
 },
 "nbformat": 4,
 "nbformat_minor": 2
}
